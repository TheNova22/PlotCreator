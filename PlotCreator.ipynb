{
  "nbformat": 4,
  "nbformat_minor": 0,
  "metadata": {
    "colab": {
      "name": "PlotCreator.ipynb",
      "provenance": [],
      "collapsed_sections": []
    },
    "kernelspec": {
      "name": "python3",
      "display_name": "Python 3"
    },
    "language_info": {
      "name": "python"
    },
    "accelerator": "GPU"
  },
  "cells": [
    {
      "cell_type": "markdown",
      "metadata": {
        "id": "mQEjZbqGFd-V"
      },
      "source": [
        "# PlotCreator\n",
        "This notebook plans to make custom movie plots using the details from Netflix's Movie and TV Show dataset. </br>\n",
        "The notebook uses [GPT-2](https://en.wikipedia.org/wiki/GPT-2), a transfomer model that works using a deep neural network to predict proper texts and sentences. </br>\n",
        "One of the easier methods of usage is by using [GPT-2-Simple](https://github.com/minimaxir/gpt-2-simple) made by Max Woolf. Example of usage is present on the repo. </br>\n"
      ]
    },
    {
      "cell_type": "code",
      "metadata": {
        "colab": {
          "base_uri": "https://localhost:8080/"
        },
        "id": "fpc3-c0oEezl",
        "outputId": "e2134322-7dff-45fb-d3d7-d623914db1aa"
      },
      "source": [
        "%tensorflow_version 1.x\n",
        "!pip install -q gpt-2-simple\n",
        "import gpt_2_simple as gpt2\n",
        "from datetime import datetime\n",
        "from google.colab import files\n",
        "import pandas as pd"
      ],
      "execution_count": 1,
      "outputs": [
        {
          "output_type": "stream",
          "text": [
            "TensorFlow 1.x selected.\n",
            "WARNING:tensorflow:\n",
            "The TensorFlow contrib module will not be included in TensorFlow 2.0.\n",
            "For more information, please see:\n",
            "  * https://github.com/tensorflow/community/blob/master/rfcs/20180907-contrib-sunset.md\n",
            "  * https://github.com/tensorflow/addons\n",
            "  * https://github.com/tensorflow/io (for I/O related ops)\n",
            "If you depend on functionality not listed there, please file an issue.\n",
            "\n"
          ],
          "name": "stdout"
        }
      ]
    },
    {
      "cell_type": "markdown",
      "metadata": {
        "id": "fEM8whWpKkFJ"
      },
      "source": [
        "Mount your drive so that you can save the checkpoint reached in the model into your drive later after training."
      ]
    },
    {
      "cell_type": "code",
      "metadata": {
        "colab": {
          "base_uri": "https://localhost:8080/"
        },
        "id": "YgsmLn5Im75D",
        "outputId": "7b15151d-663f-49a1-c355-29c93fda4c70"
      },
      "source": [
        "gpt2.mount_gdrive()"
      ],
      "execution_count": 2,
      "outputs": [
        {
          "output_type": "stream",
          "text": [
            "Drive already mounted at /content/drive; to attempt to forcibly remount, call drive.mount(\"/content/drive\", force_remount=True).\n"
          ],
          "name": "stdout"
        }
      ]
    },
    {
      "cell_type": "code",
      "metadata": {
        "colab": {
          "base_uri": "https://localhost:8080/"
        },
        "id": "OMqFcNLBFj9J",
        "outputId": "130c26c8-3aee-4a34-a459-247057636034"
      },
      "source": [
        "gpt2.download_gpt2(model_name=\"124M\")"
      ],
      "execution_count": 3,
      "outputs": [
        {
          "output_type": "stream",
          "text": [
            "Fetching checkpoint: 1.05Mit [00:00, 321Mit/s]                                                      \n",
            "Fetching encoder.json: 1.05Mit [00:00, 6.00Mit/s]\n",
            "Fetching hparams.json: 1.05Mit [00:00, 268Mit/s]                                                    \n",
            "Fetching model.ckpt.data-00000-of-00001: 498Mit [00:17, 27.7Mit/s]                                  \n",
            "Fetching model.ckpt.index: 1.05Mit [00:00, 279Mit/s]                                                \n",
            "Fetching model.ckpt.meta: 1.05Mit [00:00, 8.05Mit/s]\n",
            "Fetching vocab.bpe: 1.05Mit [00:00, 8.95Mit/s]\n"
          ],
          "name": "stderr"
        }
      ]
    },
    {
      "cell_type": "markdown",
      "metadata": {
        "id": "tEegMq54LDa3"
      },
      "source": [
        "You can download and learn about the data [here](https://www.kaggle.com/shivamb/netflix-shows)."
      ]
    },
    {
      "cell_type": "code",
      "metadata": {
        "id": "zEJ_8LENF9lD"
      },
      "source": [
        "data = pd.read_csv('netflix_titles.csv')"
      ],
      "execution_count": 4,
      "outputs": []
    },
    {
      "cell_type": "markdown",
      "metadata": {
        "id": "LlgaxmaSLZHU"
      },
      "source": [
        "Since the parameter for the dataset is in form of a txt file, we will iterate through the dataset and put it in a txt file. We shall also add marker for when the plot of movie starts and ends."
      ]
    },
    {
      "cell_type": "code",
      "metadata": {
        "colab": {
          "base_uri": "https://localhost:8080/"
        },
        "id": "03_c5nJYIdXa",
        "outputId": "5ffb1c63-03ef-4806-e9e7-43b57232e4f2"
      },
      "source": [
        "texts = \"\"\n",
        "for i,row in data.iterrows():\n",
        "  # print(str(data['description'])\n",
        "  texts += '<|startoftext|> ' + str(row['description']) + ' <|endoftext|>\\n'\n",
        "txtFile = open(\"data.txt\",\"w+\")\n",
        "txtFile.write(texts)\n",
        "print(txtFile.read())\n",
        "txtFile.close()"
      ],
      "execution_count": 5,
      "outputs": [
        {
          "output_type": "stream",
          "text": [
            "\n"
          ],
          "name": "stdout"
        }
      ]
    },
    {
      "cell_type": "markdown",
      "metadata": {
        "id": "Y1lUU5NyLtTH"
      },
      "source": [
        "We then run it and title it as run1 so that we can save it in drive and use it later again."
      ]
    },
    {
      "cell_type": "code",
      "metadata": {
        "colab": {
          "base_uri": "https://localhost:8080/"
        },
        "id": "C2z0OHmYIcvq",
        "outputId": "abfef853-79a7-41d6-bcf2-1b7438d680ce"
      },
      "source": [
        "sess = gpt2.start_tf_sess()\n",
        "\n",
        "gpt2.finetune(sess,\n",
        "              dataset='data.txt',\n",
        "              model_name='124M',\n",
        "              steps=600,\n",
        "              restore_from='fresh',\n",
        "              run_name='run1',\n",
        "              print_every=10,\n",
        "              sample_every=100\n",
        "              )"
      ],
      "execution_count": 6,
      "outputs": [
        {
          "output_type": "stream",
          "text": [
            "WARNING:tensorflow:From /usr/local/lib/python3.7/dist-packages/gpt_2_simple/src/sample.py:17: where (from tensorflow.python.ops.array_ops) is deprecated and will be removed in a future version.\n",
            "Instructions for updating:\n",
            "Use tf.where in 2.0, which has the same broadcast rule as np.where\n",
            "Loading checkpoint models/124M/model.ckpt\n",
            "INFO:tensorflow:Restoring parameters from models/124M/model.ckpt\n"
          ],
          "name": "stdout"
        },
        {
          "output_type": "stream",
          "text": [
            "\r  0%|          | 0/1 [00:00<?, ?it/s]"
          ],
          "name": "stderr"
        },
        {
          "output_type": "stream",
          "text": [
            "Loading dataset...\n"
          ],
          "name": "stdout"
        },
        {
          "output_type": "stream",
          "text": [
            "100%|██████████| 1/1 [00:02<00:00,  2.26s/it]\n"
          ],
          "name": "stderr"
        },
        {
          "output_type": "stream",
          "text": [
            "dataset has 347815 tokens\n",
            "Training...\n",
            "[10 | 31.51] loss=2.48 avg=2.48\n",
            "[20 | 55.29] loss=2.45 avg=2.47\n",
            "[30 | 78.32] loss=2.35 avg=2.43\n",
            "[40 | 101.57] loss=2.29 avg=2.39\n",
            "[50 | 125.25] loss=2.24 avg=2.36\n",
            "[60 | 148.78] loss=2.17 avg=2.33\n",
            "[70 | 172.06] loss=2.31 avg=2.32\n",
            "[80 | 195.45] loss=2.22 avg=2.31\n",
            "[90 | 218.98] loss=2.11 avg=2.29\n",
            "[100 | 242.42] loss=2.12 avg=2.27\n",
            "======== SAMPLE 1 ========\n",
            "|html|> From an intimate look at the history, culture and cultural impact of Filipino independence and his early rise to become the Philippine army general who laid claim to it. <|endoftext|>\n",
            "<|startoftext|> In a gritty neighborhood of Los Angeles, Mexican police officers confront a culture that has grown increasingly uncomfortable, unruly and dangerous. <|endoftext|>\n",
            "<|startoftext|> A woman of Irish descent leaves an impoverished family to become a fashion designer at a fashion show. But a sudden crisis leads her to run afoul of a powerful force on the inside. <|endoftext|>\n",
            "<|startoftext|> A middle-aged woman struggles to conceive after her husband's suicide and their teenage daughter's father's suicide makes family woes bother them both. <|endoftext|>\n",
            "<|startoftext|> As the new president seeks to expand his reach, two women, including his son, grapple with personal highs and lows and uncover the secrets of their tumultuous lives. <|endoftext|>\n",
            "<|startoftext|> This animated series charts the rise of the Indian subcontinent, with a twist to its tales of heroism, bravery and courage. <|endoftext|>\n",
            "<|startoftext|> In Paris, an Indian immigrant cop finds a woman who holds her own against a criminal mastermind with a strange secret she must share. <|endoftext|>\n",
            "<|startoftext|> A young man tries to prove himself wrong when he faces off with a young witch, who is possessed by a supernatural spirit. <|endoftext|>\n",
            "<|startoftext|> During the 1980s, an ex-drug dealer and his fiancée pursue a new romance while pursuing their dreams of marrying. <|endoftext|>\n",
            "<|startoftext|> In 1960s Beirut, a journalist gets entangled in a scandal involving the assassination of a revered leader. <|endoftext|>\n",
            "<|startoftext|> Former US Secretary of State Hillary Clinton discusses global challenges facing her country to shed light on how it should cope with environmental issues. <|endoftext|>\n",
            "<|startoftext|> With three teenage boys under the age of 15, a mysterious girl is taken to a remote, remote mountain range as their investigation leads them to a mysterious and deadly creature. <|endoftext|>\n",
            "<|startoftext|> After a failed terrorist attack, two men search for their killer and quickly uncover a conspiracy involving a former CIA officer. <|endoftext|>\n",
            "<|startoftext|> As three women form new alliances that will change the course of American history, their choices set the stage for future events. <|endoftext|>\n",
            "<|startoftext|> When her estranged wife is murdered, a woman sets out to prove she's not only innocent, but also capable of anything. <|endoftext|>\n",
            "<|startoftext|> A series that explores the origins and rise of Jesus' crucifixion is back on TV in this sequel to his acclaimed documentary series. <|endoftext|>\n",
            "<|startoftext|> An aging, blind widow living in her 1970s bungalow sets out to return by stealing the identity of its real-life proprietor, who's been framed as a sex offender. <|endoftext|>\n",
            "<|startoftext|> Through his unique career and the eyes of an audience, filmmaker David Straley traces the roots and rise of a wide range of directors. <|endoftext|>\n",
            "<|startoftext|> A widower widows his beloved daughter to a wealthy family and begins to unravel the mystery surrounding the true story of her father. <|endoftext|>\n",
            "<|startoftext|> A police officer is sent to investigate a mysterious murder and discovers a tangled web of deception tied to a series of unsolved murders. <|endoftext|>\n",
            "<|startoftext|> A woman from a conservative family in an affluent and affluent part of the country seeks solace in a group of friends who have found themselves in a sexual conundrum. <|endoftext|>\n",
            "<|startoftext|> A police detective finds himself in a bizarre and mysterious situation as another detective is tasked with bringing Mr. Incredible to justice. <|endoftext|>\n",
            "<|startoftext|> A new generation of police officers finds themselves divided over their own love and loyalty – and how they must prove themselves and stand their own ground. <|endoftext|>\n",
            "<|startoftext|> After a woman becomes the target of a revenge porn investigation, a cop who believes he's a victim is able to track down his girlfriend and solve their crimes. <|endoftext|>\n",
            "<\n",
            "\n",
            "[110 | 276.77] loss=2.22 avg=2.27\n",
            "[120 | 300.13] loss=2.19 avg=2.26\n",
            "[130 | 323.55] loss=2.01 avg=2.24\n",
            "[140 | 347.00] loss=2.12 avg=2.23\n",
            "[150 | 370.44] loss=2.07 avg=2.22\n",
            "[160 | 393.84] loss=2.16 avg=2.21\n",
            "[170 | 417.19] loss=1.93 avg=2.20\n",
            "[180 | 440.51] loss=1.84 avg=2.17\n",
            "[190 | 463.84] loss=2.06 avg=2.17\n",
            "[200 | 487.18] loss=1.63 avg=2.14\n",
            "======== SAMPLE 1 ========\n",
            "ri|>\n",
            "<|startoftext|> A young boy is tasked with guarding a magical gateway in his friend's village when his childhood friend starts behaving strangely. <|endoftext|>\n",
            "<|startoftext|> Two teen siblings face their very own set of hurdles when it comes to the journey they take as they seek out the school idol. <|endoftext|>\n",
            "<|startoftext|> This docuseries traces the true story of the man who led an entire Army combat team to victory during World War II. <|endoftext|>\n",
            "<|startoftext|> A teen woman struggles to maintain her balance as she is forced to carry her family into a war zone in this visually stunning series. <|endoftext|>\n",
            "<|startoftext|> In 1930 Munich, an elite gang battles the police officers of the Bohemian Gymnastics Company in a battle for control of the sport. <|endoftext|>\n",
            "<|startoftext|> Two women, one gay and the other the other straight, meet while pursuing their dreams together in Mexico. <|endoftext|>\n",
            "<|startoftext|> A young woman's heart is torn when news of her marriage to a man hits her family and friends. <|endoftext|>\n",
            "<|startoftext|> When one of her extended family dies, an ambitious young woman builds a shrine in the village to honor the man's legacy. <|endoftext|>\n",
            "<|startoftext|> When his girlfriend decides to leave his young son with her aunt, a quiet suburban guy takes up the cause of his aunt's demise. <|endoftext|>\n",
            "<|startoftext|> A boy with autism, who desperately wants to be closer to his siblings, becomes obsessed with the \"animal kingdom\" and seeks to wreak havoc on their lives. <|endoftext|>\n",
            "<|startoftext|> This documentary delves into the true stories behind the lives and work of legendary sportsscasters around the world. <|endoftext|>\n",
            "<|startoftext|> When a troubled woman starts an online presence to change her future, she's pursued by the woman who's been controlling all of her life. <|endoftext|>\n",
            "<|startoftext|> A woman's dreams and dreams become the driver of her life and love for good reason. Based on true events. <|endoftext|>\n",
            "<|startoftext|> Former MMA champ and current \"SNL\" analyst Joe Rogan examines the MMA world and his personal life in a uniquely frank, stand-up special. <|endoftext|>\n",
            "<|startoftext|> An aspiring fashion designer gets tangled up in some very shady business deals and falls for a sexy model who works with her boyfriend as her bodyguard. <|endoftext|>\n",
            "<|startoftext|> An ambitious young man is thrust into the world of fashion – and celebrity – after marrying a woman known for her sexy poses. <|endoftext|>\n",
            "<|startoftext|> With their lives in danger from some unknown unknown culprit, two female friends from similar backgrounds stumble across a woman they'd never met. <|endoftext|>\n",
            "<|startoftext|> Two young people who happen to be in this video become real people on a level playing field. Their friendship inspires them to search for true love. <|endoftext|>\n",
            "<|startoftext|> In this reality crime drama, a mobster – and the owner of a luxury hotel – must solve a series of murders to save his family and himself from death. <|endoftext|>\n",
            "<|startoftext|> Former \"SNL\" star Joe Rogan and NFL wide receiver Mike Evans discuss the impact of the game on a global audience and the transformative impact of their show on the world. <|endoftext|>\n",
            "<|startoftext|> Roddy Piper is interviewed in this stand-up show as he weighs his own views on celebrity and how to fix the nation's problems. <|endoftext|>\n",
            "<|startoftext|> Following a police chase in Colombia, a man named José Luis Lúcio is accused of kidnapping and attempting to sell weapons. <|endoftext|>\n",
            "<|startoftext|> Comedian Joe Rogan covers everything from the Kardashians to Rick Ross, with a special blend of laughs and observations from friends and fellow comedians. <|endoftext|>\n",
            "<|startoftext|> Joe Rogan brings up \"SNL\" and the Kardashians in his second stand-up special, which hits the Big Apple on Oct. 15, 2012! <|endoftext|>\n",
            "<|startoftext|>\n",
            "\n",
            "[210 | 520.34] loss=1.80 avg=2.12\n",
            "[220 | 543.69] loss=1.67 avg=2.10\n",
            "[230 | 567.02] loss=1.80 avg=2.08\n",
            "[240 | 590.39] loss=1.80 avg=2.07\n",
            "[250 | 613.80] loss=1.59 avg=2.05\n",
            "[260 | 637.26] loss=2.10 avg=2.05\n",
            "[270 | 660.70] loss=1.77 avg=2.04\n",
            "[280 | 684.14] loss=1.56 avg=2.02\n",
            "[290 | 707.62] loss=1.72 avg=2.01\n",
            "[300 | 731.07] loss=1.45 avg=1.99\n",
            "======== SAMPLE 1 ========\n",
            ". This is one of those seasons when the two teams fight head-to-head in a big game that won't be easy for the judges. <|endoftext|>\n",
            "<|startoftext|> While navigating Bangkok's nightlife with fellow bachelors, a London-based couple discovers they're just one-tenth the price of paradise. <|endoftext|>\n",
            "<|startoftext|> This documentary charts the decade-long rise and fall of a South Indian superstar, who rose to global fame as a result of his drug and alcohol infamy. <|endoftext|>\n",
            "<|startoftext|> As a thankless bachelor puts on a show in Bangkok, an amateur dancer goes undercover to document his partners' unhappiness. <|endoftext|>\n",
            "<|startoftext|> A single mother has to face her biggest obstacle: her husband, a filmmaker — or risk marrying her off. <|endoftext|>\n",
            "<|startoftext|> A successful fashion designer's husband is out of the country, forcing the couple to scramble to find an alternative source of pay. <|endoftext|>\n",
            "<|startoftext|> In the waning days of the 1970s, a young musician is drafted by one of the governments of Lebanon. Part of his purpose is to find a way out. <|endoftext|>\n",
            "<|startoftext|> A young man returns from the war as a courier and tries to settle a tense score with a group of friends in Prague. <|endoftext|>\n",
            "<|startoftext|> A man's mind is made of lies when he wakes up with a body in his apartment that has memories of two people, one must die first. <|endoftext|>\n",
            "<|startoftext|> Haunted by a bizarre dream, a young man and his imaginary friend, Aadmi, head to Patigan in Jharkhand on a road trip to meet some locals. <|endoftext|>\n",
            "<|startoftext|> Haunted by an ominous signal, a group of men and women leave their apartment and find themselves in the hands of a woman with a dark agenda. <|endoftext|>\n",
            "<|startoftext|> After meeting her boss' uncle, Rima begins to bond with her boss' uncle's widow – on the run from the law – and the gang's shady underworld connections become a mystery. <|endoftext|>\n",
            "<|startoftext|> While living in a coastal village, an orphaned child gets drawn into the jungle and is transported to a mysterious land where he meets a mysterious snake. <|endoftext|>\n",
            "<|startoftext|> A boy with a brain problem teams up with his best friend to help him build a rock band and learn some magic. <|endoftext|>\n",
            "<|startoftext|> When the daughter of a wealthy landowner's widow begins developing an illness that threatens her family’s future, her father and a group of local women take an honest-hearted look at their fortunes. <|endoftext|>\n",
            "<|startoftext|> A group of high school seniors go on the road with the only woman in their class, but love, faith, friendship and teamwork soon take their toll. <|endoftext|>\n",
            "<|startoftext|> As a girl grows up in a Mumbai slum, she faces challenges that seem insurmountable, starting with her father’s alleged involvement. <|endoftext|>\n",
            "<|startoftext|> In the heart of Punjab, where nationalism and religion intersect through daily life, one family's religious taboos intersect with the daily conditions of their daily lives. <|endoftext|>\n",
            "<|startoftext|> A family returns from war to their small town where a single mother finds her missing infant son. When she wakes up in the orphanage, things seem to be going well. <|endoftext|>\n",
            "<|startoftext|> When a young mother's violent death sparks a police investigation, she's kept in a safe since she never got the chance to kill again. <|endoftext|>\n",
            "<|startoftext|> A former Marine becomes a target in pursuit of an ex-army commando when he falls for a woman he can't conceive of. <|endoftext|>\n",
            "<|startoftext|> This action-packed drama follows New York City police as they use batons, tear gas, water cannons and other lethal weapons against drug cartels in the 1980s. <|endoftext|>\n",
            "<|startoftext|> On the run from Mexican authorities, a wealthy French expatriate falls for the daughter of an opium dealer who works for him, and becomes increasingly\n",
            "\n",
            "[310 | 764.14] loss=1.68 avg=1.98\n",
            "[320 | 787.57] loss=1.25 avg=1.95\n",
            "[330 | 811.00] loss=1.39 avg=1.93\n",
            "[340 | 834.45] loss=1.46 avg=1.91\n",
            "[350 | 857.91] loss=1.09 avg=1.89\n",
            "[360 | 881.40] loss=1.08 avg=1.86\n",
            "[370 | 904.85] loss=1.43 avg=1.84\n",
            "[380 | 928.30] loss=1.09 avg=1.82\n",
            "[390 | 951.77] loss=1.26 avg=1.80\n",
            "[400 | 975.23] loss=1.53 avg=1.80\n",
            "======== SAMPLE 1 ========\n",
            " from its crew – including the adorable Andi, her best friend Kew and six best friends Haan and Haiku. <|endoftext|>\n",
            "<|startoftext|> A young boy has a hand in fueling the insanity at Disneyland, with his cousin Yuta – the company's infamous \"tiger mechanic\" – helping him to avenge the wrongs of his past. <|endoftext|>\n",
            "<|startoftext|> After a corporate gig disrupts his happy new life, a single man realizes he has to find and return to the family he left behind. <|endoftext|>\n",
            "<|startoftext|> A former high school wrestling star takes a job as a special agent with the FBI under her belt, but she soon realizes she'll face the mark herself. <|endoftext|>\n",
            "<|startoftext|> Young orphan and avid gamer Zoey becomes an online sensation when her mother turns up at her door to offer a huge prize. <|endoftext|>\n",
            "<|startoftext|> A young boy and his pals face the hardships of adolescence when the small town they live in suddenly becomes a war zone. <|endoftext|>\n",
            "<|startoftext|> With their family reeling from the war in their village, Gendo and company investigate the true nature of the attack and its true architects. <|endoftext|>\n",
            "<|startoftext|> After being rejected by the girl group's leader and his fiancé, a boy discovers the group is in danger of losing their identity. <|endoftext|>\n",
            "<|startoftext|> This documentary examines the life of charismatic, Grammy-award winning songwriter Tupac Shakur as a career and personal growth spurt unfolds. <|endoftext|>\n",
            "<|startoftext|> This documentary examines Tupac's life before and after he broke away from the Compton MCU and became an iconoclastic artist. <|endoftext|>\n",
            "<|startoftext|> Tupac Shakur is celebrated around the world for his electrifying 1994 album \"Dynasty,\" which electrified rock 'n' roll icons Metallica. <|endoftext|>\n",
            "<|startoftext|> This series profiles musicians, activists, scholars and athletes who have advocated or played an important role in the fight against global warming and its effects. <|endoftext|>\n",
            "<|startoftext|> A passionate and principled young woman strives to better her life through activism and love than through traditional family life. <|endoftext|>\n",
            "<|startoftext|> The lives of a privileged girl and her grandmother mirror those of the poorest areas of a Punjabi village in Bihar. <|endoftext|>\n",
            "<|startoftext|> After an accident on a bridge grants him the gift of prophecy, a teen is guided back to the true origins of humanity as he grapples with death and rebirth. <|endoftext|>\n",
            "<|startoftext|> A young woman finds reason in a torrid world of demons and demons-man — in this cult drama based on a story by N.L. James. <|endoftext|>\n",
            "<|startoftext|> A woman forced to work for a gangster's drug dealer in his favela must work for one of Mexico's most ruthless criminal groups. <|endoftext|>\n",
            "<|startoftext|> In the wake of the murder of six people on a crowded Las Vegas street, three co-workers come face-to-face with the sin and consequences of their actions. <|endoftext|>\n",
            "<|startoftext|> In 14th-century Spain, the father of Antonio Sampaaren went on the attack on Rome, while the son struggles to survive the conflict between the forces of good and evil. <|endoftext|>\n",
            "<|startoftext|> A young boy learns how to be a better human being by creating a puppet master and orchestrating his every move in order to win the affection of his father. <|endoftext|>\n",
            "<|startoftext|> With the help of advanced 3-D printing technology, an entrepreneur creates a weapon that can hit anyone in 16 hours. <|endoftext|>\n",
            "<|startoftext|> A former Marine is brought before a federal grand jury, which questions his conviction and his trust in his mission. <|endoftext|>\n",
            "<|startoftext|> A young DJ with a small sound knowhow is forced to contend with the predatory behavior of a gang leader and a young singer. <|endoftext|>\n",
            "<|startoftext|> A teenage girl's determination and entrepreneurial spirit lead to a friendship with a local football coach and a dramatic entrance into\n",
            "\n",
            "[410 | 1008.40] loss=1.16 avg=1.78\n",
            "[420 | 1031.80] loss=1.18 avg=1.76\n",
            "[430 | 1055.22] loss=0.80 avg=1.73\n",
            "[440 | 1078.66] loss=0.65 avg=1.70\n",
            "[450 | 1102.06] loss=1.02 avg=1.68\n",
            "[460 | 1125.48] loss=0.94 avg=1.66\n",
            "[470 | 1148.92] loss=0.84 avg=1.64\n",
            "[480 | 1172.34] loss=0.81 avg=1.62\n",
            "[490 | 1195.78] loss=0.86 avg=1.60\n",
            "[500 | 1219.26] loss=1.02 avg=1.58\n",
            "======== SAMPLE 1 ========\n",
            "\n",
            "<|startoftext|> A hardworking Wisconsin college student is uprooted by the system when her mother takes him out for an overnight getaway. <|endoftext|>\n",
            "<|startoftext|> A hardworking Wisconsin college student is uprooted by the system when her mother takes him out for an overnight getaway. <|endoftext|>\n",
            "<|startoftext|> A gifted pediatrician and politician must hide their diametrically opposing views to save other people's babies from starvation. <|endoftext|>\n",
            "<|startoftext|> In 1976, Sandi Tan remains an unapologetic champion of women's suffrage in India, winning five Golden Books Golden Scrabble Club Golden Stars Golden Survivor Games Golden Wombat Golden Weapon Golden Washerman League. <|endoftext|>\n",
            "<|startoftext|> The legendary Sandi Tan Sri joined the resistance of the revolutionary cadre in Singapore in the 1940s, during the Japanese occupation. <|endoftext|>\n",
            "<|startoftext|> In the 1960s, Sandi Tan Sri would go on to lead the Tamil Tigers under Jai Paraat during the Mahindra Congress regime of power. <|endoftext|>\n",
            "<|startoftext|> A young woman leaves home to wed her future husband and discovers she'll need both his talents and his help to live happily ever after. <|endoftext|>\n",
            "<|startoftext|> From their humble roots to political ambitions, Sandhurst Montgomery has written a book about man-made wonders – and no one can know they've got anything to do with it. <|endoftext|>\n",
            "<|startoftext|> A renowned architect whose genius rendered water obsolete enlists the help of a charming attorney to renovate his home for his children. <|endoftext|>\n",
            "<|startoftext|> When a man wakes from a coma, his doctor has little choice but to open his own office in his hometown to deliver care on time. <|endoftext|>\n",
            "<|startoftext|> Years after a tragic downward spiral for the couple they once worked with, on and off, is a new beginning for Carole and Kath as they rebuild their relationship. <|endoftext|>\n",
            "<|startoftext|> A former criminal psychiatrist finds herself caught between the lives and love of a friend and his family, all while dealing with a variety of family and professional issues. <|endoftext|>\n",
            "<|startoftext|> A once-promising soccer player finds himself in the Premier League – and it's no easy feat when everybody else is falling into disarray. <|endoftext|>\n",
            "<|startoftext|> This CNN special follows Puerto Rican teen Jameel Desir, a reinvented version of himself that fall daydreams of becoming a professional soccer player. <|endoftext|>\n",
            "<|startoftext|> This comedy follows the ups and downs of the NFL's single-seater training complex as it grapples with the fallout from its decimated property in Moore, Alabama. <|endoftext|>\n",
            "<|startoftext|> An aspiring actor has an affair with his former flame, unaware that he will soon be cast opposite Rita Hayworth in a B-movie. <|endoftext|>\n",
            "<|startoftext|> When her boss catches a hedonistic sidekick with a plot to steal her business, Karyn heads down to Hollywood and meets her good friend, an actor known for his wacky behavior. <|endoftext|>\n",
            "<|startoftext|> A misfit pianist finds love while working as a bank teller in the kitchen, and the quiet and joy of family intertwines as he strives to keep the family he always knew he had. <|endoftext|>\n",
            "<|startoftext|> After losing everything, a boxer and his wife become the last of their kind, but now one man represents them in this historical battle. <|endoftext|>\n",
            "<|startoftext|> This documentary delves into the complicated world of the Malaysian kung fu and its commitment to universal culture, faith, and justice. <|endoftext|>\n",
            "<|startoftext|> A man transforms his mobile home into a theater, but as his legs become tangled in the messy chaos, he realizes he's been tricked. <|endoftext|>\n",
            "<|startoftext|> A reclusive single mom with a stunning beauty pageant réview seizes the moment while en route to an expensive new engagement. <|endoftext|>\n",
            "<|startoftext|> In this documentary, filmmakers tell stories of faith, hard work, empowerment and transformative journeys in the places they lens their portrayals\n",
            "\n",
            "[510 | 1252.52] loss=1.00 avg=1.57\n",
            "[520 | 1275.94] loss=0.91 avg=1.55\n",
            "[530 | 1299.36] loss=0.86 avg=1.54\n",
            "[540 | 1322.78] loss=0.67 avg=1.52\n",
            "[550 | 1346.18] loss=0.73 avg=1.50\n",
            "[560 | 1369.61] loss=0.70 avg=1.48\n",
            "[570 | 1393.07] loss=0.72 avg=1.46\n",
            "[580 | 1416.49] loss=0.81 avg=1.45\n",
            "[590 | 1439.90] loss=0.57 avg=1.43\n",
            "[600 | 1463.31] loss=0.43 avg=1.41\n",
            "Saving checkpoint/run1/model-600\n"
          ],
          "name": "stdout"
        }
      ]
    },
    {
      "cell_type": "markdown",
      "metadata": {
        "id": "2X59e6wwL3qR"
      },
      "source": [
        "Uploading to drive"
      ]
    },
    {
      "cell_type": "code",
      "metadata": {
        "id": "H9UwpJP_lQdB"
      },
      "source": [
        "gpt2.copy_checkpoint_to_gdrive(run_name='run1')"
      ],
      "execution_count": 7,
      "outputs": []
    },
    {
      "cell_type": "markdown",
      "metadata": {
        "id": "Fm4_-SslL618"
      },
      "source": [
        "The two comments can be uncommented and used directly when you want to rerun the program with the same training set."
      ]
    },
    {
      "cell_type": "code",
      "metadata": {
        "id": "yIum05KBlm4F"
      },
      "source": [
        "# gpt2.copy_checkpoint_from_gdrive(run_name='run1')"
      ],
      "execution_count": 8,
      "outputs": []
    },
    {
      "cell_type": "code",
      "metadata": {
        "id": "Lwz_TU49luI3"
      },
      "source": [
        "# sess = gpt2.start_tf_sess()\n",
        "# gpt2.load_gpt2(sess, run_name='run1')"
      ],
      "execution_count": 9,
      "outputs": []
    },
    {
      "cell_type": "code",
      "metadata": {
        "colab": {
          "base_uri": "https://localhost:8080/"
        },
        "id": "eixNfaXkmSxO",
        "outputId": "2914ce62-8f41-4ff9-9b4d-1886c3b71a06"
      },
      "source": [
        "gpt2.generate(sess, run_name='run1',\n",
        "             length=100,\n",
        "             prefix=\"<|startoftext|>\",\n",
        "             truncate=\"<|endoftext|>\\n\",\n",
        "             include_prefix=False)"
      ],
      "execution_count": 10,
      "outputs": [
        {
          "output_type": "stream",
          "text": [
            " Two thrill-seeking mythical creatures make their way into a twisted crime-infested town, where they learn the key to unlocking their deepest fears is a quest for freedom. \n"
          ],
          "name": "stdout"
        }
      ]
    },
    {
      "cell_type": "markdown",
      "metadata": {
        "id": "lzmHQUHYMIQz"
      },
      "source": [
        "We generate the output as a list and then properly format for printing it out."
      ]
    },
    {
      "cell_type": "code",
      "metadata": {
        "id": "cKzV2iIZsiL_"
      },
      "source": [
        "plotList = gpt2.generate(sess, run_name = 'run1',\n",
        "                length = 100,\n",
        "                temperature = 1,\n",
        "                nsamples=20,\n",
        "                batch_size=10,\n",
        "                include_prefix=False,\n",
        "                return_as_list = True\n",
        "                )"
      ],
      "execution_count": 22,
      "outputs": []
    },
    {
      "cell_type": "code",
      "metadata": {
        "id": "P0_AsW1_3V2S"
      },
      "source": [
        "finalList = []\n",
        "for plots in plotList:\n",
        "  plot = plots.split()\n",
        "  started = False\n",
        "  plt = ''\n",
        "  # print(plot)\n",
        "  for word in plot:\n",
        "    if not started and word == '<|startoftext|>':\n",
        "      started = True\n",
        "    elif started and word == '<|endoftext|>':\n",
        "      started = False\n",
        "      finalList.append(plt)\n",
        "    elif started:\n",
        "      plt += word + ' '\n"
      ],
      "execution_count": 23,
      "outputs": []
    },
    {
      "cell_type": "markdown",
      "metadata": {
        "id": "ABskL1grMSzd"
      },
      "source": [
        "Print any 5 random movie plots"
      ]
    },
    {
      "cell_type": "code",
      "metadata": {
        "colab": {
          "base_uri": "https://localhost:8080/"
        },
        "id": "ihAcieQkCaXN",
        "outputId": "d602515c-6b2c-4b89-84c2-8a890ea77b6d"
      },
      "source": [
        "from random import choice\n",
        "for _ in range(5) : print(choice(finalList))"
      ],
      "execution_count": 24,
      "outputs": [
        {
          "output_type": "stream",
          "text": [
            "A father's suicide sends his daughter and grandson next door into the pain of losing their first child, only to incite a violent clash. \n",
            "Inspired by \"MythBusters,\" five astronauts discuss far-fetched stories that touch on everything from religious origins to alien training camps at Macdonald-Tinsley Airport. Two Boston police officers are profilers for a Boston Globe crime beat, while working undercover as a pair of cops in Hong Kong. \n",
            "Two cooly devoted exes rekindle their bond by taking on deadly mysteries together in this supernatural mystery. As a judge faces a lawsuit over his involvement in a gay rights march in 1980, the billionaire owner of the Toronto Sun tries to redeem himself. \n",
            "When three emerging small-town filmmakers revisit a classic blues tune, the tune is replaced by a hauntingly nostalgic tune for the guys they meet. \n",
            "In an Antibodiesaga neighborhood, a defiant radio talk-show host finds himself the target of a ruthless bully with a stake in his heart. \n"
          ],
          "name": "stdout"
        }
      ]
    }
  ]
}